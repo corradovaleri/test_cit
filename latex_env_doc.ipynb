{
 "cells": [
  {
   "cell_type": "markdown",
   "metadata": {
    "toc": "true"
   },
   "source": [
    "# Table of Contents\n",
    " <p><div class=\"lev1 toc-item\"><a href=\"#(some)-LaTeX-environments-for-Jupyter-notebook\" data-toc-modified-id=\"(some)-LaTeX-environments-for-Jupyter-notebook-1\"><span class=\"toc-item-num\">1&nbsp;&nbsp;</span>(some) LaTeX environments for Jupyter notebook</a></div><div class=\"lev1 toc-item\"><a href=\"#Presentation-and-main-features\" data-toc-modified-id=\"Presentation-and-main-features-2\"><span class=\"toc-item-num\">2&nbsp;&nbsp;</span>Presentation and main features</a></div><div class=\"lev2 toc-item\"><a href=\"#Implementation-principle\" data-toc-modified-id=\"Implementation-principle-2.1\"><span class=\"toc-item-num\">2.1&nbsp;&nbsp;</span>Implementation principle</a></div><div class=\"lev2 toc-item\"><a href=\"#Support-for-simple-LaTeX-commands\" data-toc-modified-id=\"Support-for-simple-LaTeX-commands-2.2\"><span class=\"toc-item-num\">2.2&nbsp;&nbsp;</span>Support for simple LaTeX commands</a></div><div class=\"lev2 toc-item\"><a href=\"#Available-environments\" data-toc-modified-id=\"Available-environments-2.3\"><span class=\"toc-item-num\">2.3&nbsp;&nbsp;</span>Available environments</a></div><div class=\"lev2 toc-item\"><a href=\"#Automatic-numerotation,-labels-and-references\" data-toc-modified-id=\"Automatic-numerotation,-labels-and-references-2.4\"><span class=\"toc-item-num\">2.4&nbsp;&nbsp;</span>Automatic numerotation, labels and references</a></div><div class=\"lev2 toc-item\"><a href=\"#Bibliography\" data-toc-modified-id=\"Bibliography-2.5\"><span class=\"toc-item-num\">2.5&nbsp;&nbsp;</span>Bibliography</a></div><div class=\"lev3 toc-item\"><a href=\"#Usage\" data-toc-modified-id=\"Usage-2.5.1\"><span class=\"toc-item-num\">2.5.1&nbsp;&nbsp;</span>Usage</a></div><div class=\"lev3 toc-item\"><a href=\"#Implementation\" data-toc-modified-id=\"Implementation-2.5.2\"><span class=\"toc-item-num\">2.5.2&nbsp;&nbsp;</span>Implementation</a></div><div class=\"lev2 toc-item\"><a href=\"#Figure-environment\" data-toc-modified-id=\"Figure-environment-2.6\"><span class=\"toc-item-num\">2.6&nbsp;&nbsp;</span>Figure environment</a></div><div class=\"lev2 toc-item\"><a href=\"#figcaption\" data-toc-modified-id=\"figcaption-2.7\"><span class=\"toc-item-num\">2.7&nbsp;&nbsp;</span>figcaption</a></div><div class=\"lev2 toc-item\"><a href=\"#Other-features\" data-toc-modified-id=\"Other-features-2.8\"><span class=\"toc-item-num\">2.8&nbsp;&nbsp;</span>Other features</a></div><div class=\"lev2 toc-item\"><a href=\"#User-interface\" data-toc-modified-id=\"User-interface-2.9\"><span class=\"toc-item-num\">2.9&nbsp;&nbsp;</span>User interface</a></div><div class=\"lev3 toc-item\"><a href=\"#Buttons-on-main-toolbar\" data-toc-modified-id=\"Buttons-on-main-toolbar-2.9.1\"><span class=\"toc-item-num\">2.9.1&nbsp;&nbsp;</span>Buttons on main toolbar</a></div><div class=\"lev3 toc-item\"><a href=\"#Configuration-toolbar\" data-toc-modified-id=\"Configuration-toolbar-2.9.2\"><span class=\"toc-item-num\">2.9.2&nbsp;&nbsp;</span>Configuration toolbar</a></div><div class=\"lev1 toc-item\"><a href=\"#Installation,-usage-and-further-examples\" data-toc-modified-id=\"Installation,-usage-and-further-examples-3\"><span class=\"toc-item-num\">3&nbsp;&nbsp;</span>Installation, usage and further examples</a></div><div class=\"lev2 toc-item\"><a href=\"#Installation\" data-toc-modified-id=\"Installation-3.1\"><span class=\"toc-item-num\">3.1&nbsp;&nbsp;</span>Installation</a></div><div class=\"lev2 toc-item\"><a href=\"#First-example-(continued)\" data-toc-modified-id=\"First-example-(continued)-3.2\"><span class=\"toc-item-num\">3.2&nbsp;&nbsp;</span>First example (continued)</a></div><div class=\"lev2 toc-item\"><a href=\"#Second-example\" data-toc-modified-id=\"Second-example-3.3\"><span class=\"toc-item-num\">3.3&nbsp;&nbsp;</span>Second example</a></div><div class=\"lev2 toc-item\"><a href=\"#Third-example:\" data-toc-modified-id=\"Third-example:-3.4\"><span class=\"toc-item-num\">3.4&nbsp;&nbsp;</span>Third example:</a></div><div class=\"lev1 toc-item\"><a href=\"#Conversion-to-LaTeX-and-HTML\" data-toc-modified-id=\"Conversion-to-LaTeX-and-HTML-4\"><span class=\"toc-item-num\">4&nbsp;&nbsp;</span>Conversion to LaTeX and HTML</a></div><div class=\"lev2 toc-item\"><a href=\"#Conversion-to-html\" data-toc-modified-id=\"Conversion-to-html-4.1\"><span class=\"toc-item-num\">4.1&nbsp;&nbsp;</span>Conversion to html</a></div><div class=\"lev2 toc-item\"><a href=\"#Conversion-to-LaTeX\" data-toc-modified-id=\"Conversion-to-LaTeX-4.2\"><span class=\"toc-item-num\">4.2&nbsp;&nbsp;</span>Conversion to LaTeX</a></div><div class=\"lev1 toc-item\"><a href=\"#Disclaimer,-sources-and-thanks\" data-toc-modified-id=\"Disclaimer,-sources-and-thanks-5\"><span class=\"toc-item-num\">5&nbsp;&nbsp;</span>Disclaimer, sources and thanks</a></div><div class=\"lev1 toc-item\"><a href=\"#References\" data-toc-modified-id=\"References-6\"><span class=\"toc-item-num\">6&nbsp;&nbsp;</span>References</a></div>"
   ]
  },
  {
   "cell_type": "markdown",
   "metadata": {
    "latex_envs": true
   },
   "source": [
    "# (some) LaTeX environments for Jupyter notebook "
   ]
  },
  {
   "cell_type": "code",
   "execution_count": 1,
   "metadata": {
    "collapsed": false
   },
   "outputs": [
    {
     "data": {
      "text/html": [
       "<style>\n",
       "    .prompt{\n",
       "        display: none;\n",
       "    }    \n",
       "\n",
       "</style>"
      ],
      "text/plain": [
       "<IPython.core.display.HTML object>"
      ]
     },
     "metadata": {},
     "output_type": "display_data"
    }
   ],
   "source": [
    "%%html\n",
    "<style>\n",
    "    .prompt{\n",
    "        display: none;\n",
    "    }    \n",
    "\n",
    "</style>"
   ]
  },
  {
   "cell_type": "markdown",
   "metadata": {},
   "source": [
    "\\subsection{** What's new **}\n",
    "\n",
    "**July 27, 2016** - \n",
    "\n",
    "- In this version we have reworked **equation numbering**. In the previous version, we have implemented a specialized counter and detected equations rendering for updating the counter. Meanwhile, this feature has been introduced in `MathJax` and now we rely on MathJax implementation. We still have keep the capability of displaying only equation labels (instead of numbers). The numbering is automatically updated and is document-wide.\n",
    "- We have completely reworked the **notebook conversion** to plain $\\LaTeX$ and html. We provide specialized exporters, pre and post processors, templates. We also added entry-points to simplify the conversion process. It is now as simple as\n",
    "```bash\n",
    "jupyter nbconvert --to html_lenvs FILE.ipynb\n",
    "```\n",
    "to convert `FILE.ipynb` into html while keeping all the features of the `latex_envs` notebook extension in the converted version. \n"
   ]
  },
  {
   "cell_type": "markdown",
   "metadata": {
    "latex_envs": true
   },
   "source": [
    "# Presentation and main features"
   ]
  },
  {
   "cell_type": "markdown",
   "metadata": {},
   "source": [
    "This extension for IPython 3.x or Jupyter enables to use some LaTeX commands and environments in the notebook's markdown cells. \n",
    "\\begin{enumerate}\n",
    "\\item **LaTeX commands and environments**\n",
    "\\begin{itemize}\n",
    "\\item support for some LaTeX commands within markdown cells, *e.g.* `\\textit`, `\\textbf`, `\\underline`\n",
    "\\item support for **theorems-like environments**\n",
    "\\item support for **lists**: *enumerate, itemize*,  \n",
    "\\item limited support for a **figure environment**,\n",
    "\\item support for an environment *listing*,\n",
    "\\item additional *textboxa* environment\n",
    "\\end{itemize}\n",
    "\\item **Citations and bibliography**\n",
    "\\begin{itemize}\n",
    "\\item support for `\\cite` with creation of a References section\n",
    "\\end{itemize}\n",
    "\\item **Document-wide numbering of equations, support for `\\label` and `\\ref`**\n",
    "\\item **Configuration toolbar**\n",
    "\\item Styles can be customized in the `latex_env.css` stylesheet\n",
    "\\end{enumerate}\n",
    "\n",
    "A simple illustration is as follows: on can type the following in a markdown cell\n",
    "\\begin{listing}\n",
    "\\begin{theorem} \\label{theo:dotp}\n",
    "Let $u$ and $v$ be two vectors of $\\mathbb{R}^n$. The dot product can be expressed as\n",
    "\\begin{equation}\n",
    "\\label{eq:dotp}\n",
    "u^Tv = |u||v| \\cos \\theta,\n",
    "\\end{equation}\n",
    "where $\\theta$ is the angle between $u$ and $v$ ...\n",
    "\\end{theorem}\n",
    "Then one can reference the equation (\\ref{eq:dotp}) in theorem \\ref{theo:dotp}.\n",
    "\\end{listing}\n",
    "and have it rendered as\n",
    "\n",
    "\\begin{theorem} \\label{theo:dotp}\n",
    "Let $u$ and $v$ be two vectors of $\\mathbb{R}^n$. The dot product can be expressed as\n",
    "\\begin{equation}\n",
    "\\label{eq:dotp}\n",
    "u^Tv = |u||v| \\cos \\theta,\n",
    "\\end{equation}\n",
    "where $\\theta$ is the angle between $u$ and $v$ ...\n",
    "\\end{theorem}\n",
    "Then one can reference the equation (\\ref{eq:dotp}) in theorem \\ref{theo:dotp}."
   ]
  },
  {
   "cell_type": "markdown",
   "metadata": {
    "latex_envs": true
   },
   "source": [
    "## Implementation principle"
   ]
  },
  {
   "cell_type": "markdown",
   "metadata": {},
   "source": [
    "The main idea is to override the standard Markdown renderer in order to add a *small* parsing of LaTeX expressions and environments. This heavily uses regular expressions. The LaTeX expression are then rendered using an html version. For instance `\\underline {something}` is rendered as `<u> something </u>`, that is \\underline{something}. The environments are replaced by an html tag with a class derived from the name of the environment. For example, a `definition` denvronment will be replaced by an html rendering corresponding to the class `latex_definition`. The styles associated with the different classes are sepcified in `latex_env.css`. These substitutions are implemented in `thsInNb4.js`."
   ]
  },
  {
   "cell_type": "markdown",
   "metadata": {
    "latex_envs": true
   },
   "source": [
    "## Support for simple LaTeX commands"
   ]
  },
  {
   "cell_type": "markdown",
   "metadata": {
    "latex_envs": true
   },
   "source": [
    "We also added some LaTeX commands (e.g. `\\textit`, `\\textbf`, `\\underline`) -- this is useful in the case of copy-paste from a LaTeX document. Labels and references are supported, including for equations."
   ]
  },
  {
   "cell_type": "markdown",
   "metadata": {
    "latex_envs": true
   },
   "source": [
    "## Available environments"
   ]
  },
  {
   "cell_type": "markdown",
   "metadata": {},
   "source": [
    "- **theorems-like environments**: *property, theorem, lemma, corollary, proposition, definition,remark, problem,           exercise, example*,\n",
    "- **lists**: *enumerate, itemize*,  \n",
    "- limited support for a *figure* environment,\n",
    "- an environment *listing*,\n",
    "- *textboxa*, wich is a `textbox` environment defined as a demonstration (see below).\n",
    "\n",
    "More environments can be added easily in the javascript source file `thmsInNb4.js`. The rendering is done according to the stylesheet `latex_env.css`, which can be customized.\n",
    "\n",
    "\\begin{remark}\n",
    "When exporting to html, the `latex_env.css` file honored is the file on the Jupyter-notebook-extensions CDN. However, customized css can be added in a `custom.css` file that must reside in the same directory as the notebook itself. \n",
    "\\end{remark}"
   ]
  },
  {
   "cell_type": "markdown",
   "metadata": {
    "latex_envs": true
   },
   "source": [
    "## Automatic numerotation, labels and references "
   ]
  },
  {
   "cell_type": "markdown",
   "metadata": {
    "latex_envs": true
   },
   "source": [
    "Counters for numerotation are implemented: one for theorems-like environments, a second for exercises-like environments and a third one for numbering figures.   \n",
    "Mathjax-equations with a label are also numbered document-wide. \n",
    "An anchor is created for any label which enables to links things within the document: `\\label` and `\\ref` are both supported. A limitation is that numbering is updated (incremented) each time a cell is rendered. A toolbar button is provided to reset the counters and refresh the rendering of the whole document."
   ]
  },
  {
   "cell_type": "markdown",
   "metadata": {},
   "source": [
    "\\label{example:mixing} A simple example is as follows, featuring automatic numerotation, and the use of labels and references. Also note that standard markdown can be present in the environment and is interpreted. \n",
    "*The rendering is done according to the stylesheet `latex_env.css`, which of course, can be tailored to specific uses and tastes*.  \n",
    "\n",
    "\\begin{listing}\n",
    "\\begin{definition} \\label{def:FT}\n",
    "Let $x[n]$ be a sequence of length $N$. Then, its **Fourier transform** is given by\n",
    "\\begin{equation}\n",
    "\\label{eq:FT}\n",
    "X[k]= \\frac{1}{N} \\sum_{n=0}^{N-1} x[n] e^{-j2\\pi \\frac{kn}{N}}\n",
    "\\end{equation}\n",
    "\\end{definition}\n",
    "\\end{listing}\n"
   ]
  },
  {
   "cell_type": "markdown",
   "metadata": {},
   "source": [
    "\n",
    "\\begin{definition} \\label{def:FT}\n",
    "Let $x[n]$ be a sequence of length $N$. Then, its **Fourier transform** is given by\n",
    "\\begin{equation}\n",
    "\\label{eq:FT2}\n",
    "X[k]= \\frac{1}{N} \\sum_{n=0}^{N-1} x[n] e^{-j2\\pi \\frac{kn}{N}}\n",
    "\\end{equation}\n",
    "\\end{definition}"
   ]
  },
  {
   "cell_type": "markdown",
   "metadata": {},
   "source": [
    "It is now possible to refer to the definition and to the equation by their labels,  as in:\n",
    "\\begin{listing}\n",
    "As an example of Definition \\ref{def:FT}, consider the Fourier transform (\\ref{eq:FT2}) of a pure cosine wave given by\n",
    "$$\n",
    "x[n]= \\cos(2\\pi k_0 n/N),\n",
    "$$\n",
    "where $k_0$ is an integer. \n",
    "\\end{listing}"
   ]
  },
  {
   "cell_type": "markdown",
   "metadata": {},
   "source": [
    "As an example of Definition \\ref{def:FT}, consider the Fourier transform (\\ref{eq:FT2}) of a pure cosine wave given by\n",
    "$$\n",
    "x[n]= \\cos(2\\pi k_0 n/N),\n",
    "$$\n",
    "where $k_0$ is an integer. \n",
    "Its Fourier transform is given by \n",
    "$$\n",
    "X[k] = \\frac{1}{2} \\left( \\delta[k-k_0] + \\delta[k-k_0] \\right), \n",
    "$$\n",
    "modulo $N$. "
   ]
  },
  {
   "cell_type": "markdown",
   "metadata": {
    "latex_envs": true
   },
   "source": [
    "## Bibliography"
   ]
  },
  {
   "cell_type": "markdown",
   "metadata": {
    "latex_envs": true
   },
   "source": [
    "### Usage"
   ]
  },
  {
   "cell_type": "markdown",
   "metadata": {},
   "source": [
    "It is possible to cite bibliographic references using the standard LaTeX `\\cite` mechanism. The extension looks for the references in a bibTeX file, by default `biblio.bib` in the same directory as the notebook. The name of this file can be modified in the configuration toolbar. It is then possible to cite works in the notebook, e.g. \n",
    "\\begin{listing}\n",
    "The main paper on IPython is definitively \\cite{PER-GRA:2007}. Other interesting references are certainly \\cite{mckinney2012python, rossant2013learning}. Interestingly, a presentation of the IPython notebook has also be published recently in Nature \\cite{shen2014interactive}.\n",
    "\\end{listing}\n",
    "The main paper on IPython is definitively \\cite{PER-GRA:2007}. Other interesting references are certainly \\cite{mckinney2012python, rossant2013learning}. Interestingly, a presentation of the IPython notebook has also be published recently in Nature \\cite{shen2014interactive}."
   ]
  },
  {
   "cell_type": "markdown",
   "metadata": {
    "latex_envs": true
   },
   "source": [
    "### Implementation"
   ]
  },
  {
   "cell_type": "markdown",
   "metadata": {
    "latex_envs": true
   },
   "source": [
    "The implemention uses several snippets from the nice [icalico-document-tools](https://bitbucket.org/ipre/calico/downloads/) extension that also considers the rendering of citations in the notebook. We also use a modified version of the [bibtex-js](https://code.google.com/p/bibtex-js/) parser for reading the references in the bibTeX file. The different functions are implemented in `bibInNb4.js`. The rendering of citations calls can adopt three styles (Numbered, by key or apa-like) -- this can be selected in the configuration toolbar. It is also possible to customize the rendering of references in the reference list. A citation template is provided in the beginning of file `latex_envs.js`: \n",
    "```\n",
    "var cit_tpl = {\n",
    "// feel free to add more types and customize the templates\n",
    "    'INPROCEEDINGS': '%AUTHOR:InitialsGiven%, ``_%TITLE%_\\'\\', %BOOKTITLE%, %MONTH% %YEAR%.',\n",
    "    ... etc\n",
    "```\n",
    "The keys are the main types of documents, eg inproceedings, article, inbook, etc. To each key is associated a string where the %KEYWORDS% are the fields of the bibtex entry. The keywords are replaced by the correponding bibtex entry value. The template string can formatted with additional words and effects (markdown or LaTeX are commands are supported)"
   ]
  },
  {
   "cell_type": "markdown",
   "metadata": {
    "latex_envs": true
   },
   "source": [
    "## Figure environment"
   ]
  },
  {
   "cell_type": "markdown",
   "metadata": {},
   "source": [
    "Finally, it is sometimes useful to integrate a figure within a markdown cell. The standard markdown markup for that is `![link](image)`, but a limitation is that the image can not be resized, can not be referenced and is not numbered. Furthermore it can be useful for re-using existing code. Threfore we have added a limited support for the `figure` environment. This enables to do something like\n",
    "\\begin{listing}\n",
    "\\begin{figure}\n",
    "\\centerline{\\includegraphics[width=10cm]{example.png}}\n",
    "\\caption{\\label{fig:example} This is an example of figure included using LaTeX commands.}\n",
    "\\end{figure}\n",
    "\\end{listing}\n",
    "which renders as\n",
    "\\begin{figure}\n",
    "\\centerline{\\includegraphics[width=10cm]{example.png}}\n",
    "\\caption{\\label{fig:example} This is an example of figure included using LaTeX commands.}\n",
    "\\end{figure}\n",
    "Of course, this Figure can now be referenced: \n",
    "\\begin{listing}\n",
    "Figure \\ref{fig:example} shows a second filter with input $X_2$, output $Y_2$  and an impulse response denoted as $h_2(n)$\n",
    "\\end{listing}\n",
    "Figure \\ref{fig:example} shows a second filter with input $X_2$, output $Y_2$  and an impulse response denoted as $h_2(n)$"
   ]
  },
  {
   "cell_type": "markdown",
   "metadata": {},
   "source": [
    "## figcaption"
   ]
  },
  {
   "cell_type": "markdown",
   "metadata": {},
   "source": [
    "For Python user, we have added in passing a simple function in the `latex_envs.py` library. This function can be imported classicaly, eg `from latex_envs import figcaption`. Then, this function enables to specify a caption and a label for the next plot. In turn, when exporting to $\\LaTeX$, the corresponding plot is converted to a nice figure environement with a label and a caption. "
   ]
  },
  {
   "cell_type": "code",
   "execution_count": 2,
   "metadata": {
    "collapsed": false
   },
   "outputs": [
    {
     "data": {
      "text/html": [
       "<div class=caption><b> Caption: </b> This is a nice sine wave</div>"
      ],
      "text/plain": [
       "<IPython.core.display.HTML object>"
      ]
     },
     "metadata": {},
     "output_type": "display_data"
    },
    {
     "data": {
      "text/plain": [
       "[<matplotlib.lines.Line2D at 0x894b5f8>]"
      ]
     },
     "execution_count": 2,
     "metadata": {},
     "output_type": "execute_result"
    },
    {
     "data": {
      "image/png": "[encoded data removed]",
      "text/plain": [
       "<matplotlib.figure.Figure at 0x5102358>"
      ]
     },
     "metadata": {},
     "output_type": "display_data"
    }
   ],
   "source": [
    "%matplotlib inline\n",
    "import matplotlib.pyplot as plt\n",
    "from jupyter_contrib_nbextensions.nbconvert_support.latex_envs import figcaption\n",
    "from numpy import pi, sin, arange\n",
    "figcaption(\"This is a nice sine wave\", label=\"fig:mysin\")\n",
    "plt.plot(sin(2*pi*0.01*arange(100)))"
   ]
  },
  {
   "cell_type": "markdown",
   "metadata": {
    "latex_envs": true
   },
   "source": [
    "## Other features"
   ]
  },
  {
   "cell_type": "markdown",
   "metadata": {
    "latex_envs": true
   },
   "source": [
    "- As shown in the examples, eg \\ref{example:mixing}, it is possible to mix LaTeX and markdown markup in environments  \n",
    "- Environments can be nested. However, it is not possible, because of limlitations of regular expressions, to nest environments of the same king (eg itemize into itemize into itemize...)"
   ]
  },
  {
   "cell_type": "markdown",
   "metadata": {
    "latex_envs": true
   },
   "source": [
    "## User interface"
   ]
  },
  {
   "cell_type": "markdown",
   "metadata": {
    "latex_envs": true
   },
   "source": [
    "### Buttons on main toolbar"
   ]
  },
  {
   "cell_type": "markdown",
   "metadata": {
    "latex_envs": true
   },
   "source": [
    "On the main toolbar, the extension provides three buttons ![three buttons](main_toolbar.png) The first one can be used to refresh the numerotation of equations and references in all the document. The second one fires the reading of the bibliography bibtex file and creates (or updates) the reference section. Finally the third one is a toogle button that opens or closes the configuration toolbar."
   ]
  },
  {
   "cell_type": "markdown",
   "metadata": {
    "latex_envs": true
   },
   "source": [
    "### Configuration toolbar"
   ]
  },
  {
   "cell_type": "markdown",
   "metadata": {
    "latex_envs": true
   },
   "source": [
    "The configuration toolbar  ![configuration toolbar](configuration_toolbar.png) enables to enter some configuration options for the extension. First, one can indicate the name of the bibtex file. If this file is not found and the user creates the reference section, then this section will indicate that the file was not found. The references drop-down menu enables to choose the type of reference calls. The Equations input box enable to initiate numbering of equations at the given number (this may be useful for complex documents in several files/parts). Finally the last drop-down menu let the user choose to number equation or to display their label instead. These configuration options are then stored in the notebook's metadata (and restored on reload)."
   ]
  },
  {
   "cell_type": "markdown",
   "metadata": {
    "collapsed": true,
    "latex_envs": true
   },
   "source": [
    "# Installation, usage and further examples"
   ]
  },
  {
   "cell_type": "markdown",
   "metadata": {
    "latex_envs": true
   },
   "source": [
    "## Installation"
   ]
  },
  {
   "cell_type": "markdown",
   "metadata": {
    "latex_envs": true
   },
   "source": [
    "The extension consists in several javascript scripts: `latex_envs.js`, `thmsInNb4.js`, `bibInNb4.js` and `initNb.js`, together with a stylesheet `latex_envs.css`. You may follow the instructions in the [wiki](https://github.com/ipython-contrib/IPython-notebook-extensions/wiki) to install the extension.\n",
    "\n",
    "Definitively, the simplest way to install and enable the extension is to follow the instrutions in the [Jupyter-notebook-extensions repo](https://github.com/ipython-contrib/Jupyter-notebook-extensions/blob/master/README.md). Once this is done, you can open a tab at `http://localhost:8888/nbextensions` to anable and configurate the various extensions. "
   ]
  },
  {
   "cell_type": "markdown",
   "metadata": {
    "latex_envs": true
   },
   "source": [
    "## First example (continued)"
   ]
  },
  {
   "cell_type": "markdown",
   "metadata": {},
   "source": [
    "We continue the first example on fthe Fourier transform definition \\ref{def:FT} in order to show that, of course, we can illustrate things using a simple code. Since the Fourier transform is an essential tool in signal processing, We put this in evidence using the `textboxa` environment -- which is defined here in the css, and that one should define in the LaTeX counterpart:\n",
    "\\begin{listing}\n",
    "\\begin{textboxa}\n",
    "The Fourier transform is an extremely useful tool to have in your toolbox!\n",
    "\\end{textboxa}\n",
    "\\end{listing}"
   ]
  },
  {
   "cell_type": "markdown",
   "metadata": {},
   "source": [
    "\\begin{textboxa}\n",
    "The Fourier transform is an extremely useful tool to have in your toolbox!\n",
    "\\end{textboxa}\n"
   ]
  },
  {
   "cell_type": "markdown",
   "metadata": {
    "latex_envs": true
   },
   "source": [
    "The Fourier transform of a pure cosine is given by \n",
    "$$\n",
    "X[k] = \\frac{1}{2} \\left( \\delta[k-k_0] + \\delta[k-k_0] \\right), \n",
    "$$\n",
    "modulo $N$. This is illustrated in the following simple script:"
   ]
  },
  {
   "cell_type": "code",
   "execution_count": 3,
   "metadata": {
    "collapsed": false
   },
   "outputs": [
    {
     "data": {
      "image/png": "[encoded data removed]",
      "text/plain": [
       "<matplotlib.figure.Figure at 0x7ffc438>"
      ]
     },
     "metadata": {},
     "output_type": "display_data"
    }
   ],
   "source": [
    "%matplotlib inline\n",
    "import numpy as np\n",
    "import matplotlib.pyplot as plt \n",
    "from numpy.fft import fft\n",
    "k0=4; N=128; n=np.arange(N); k=np.arange(N)\n",
    "x=np.sin(2*np.pi*k0*n/N)\n",
    "X=fft(x)\n",
    "plt.stem(k,np.abs(X))\n",
    "plt.xlim([0, 20])\n",
    "plt.title(\"Fourier transform of a cosine\")\n",
    "_=plt.xlabel(\"Frequency index (k)\")"
   ]
  },
  {
   "cell_type": "markdown",
   "metadata": {
    "latex_envs": true
   },
   "source": [
    "## Second example"
   ]
  },
  {
   "cell_type": "markdown",
   "metadata": {
    "latex_envs": true
   },
   "source": [
    "This example shows a series of environments, with different facets; **links, references, markdown or/and LaTeX formatting within environments**.  The listing of environments below is typed using the environment *listing*..."
   ]
  },
  {
   "cell_type": "markdown",
   "metadata": {},
   "source": [
    "\\begin{listing}\n",
    "\\begin{definition} \\label{def:diffeq}\n",
    "We call \\textbf{difference equation} an equation of the form\n",
    "$$\n",
    "\\label{eq:diffeq}\n",
    "y[n]= \\sum_{k=1}^{p} a_k y[n-k] + \\sum_{i=0}^q b_i x[n-i]\n",
    "$$\n",
    "\\end{definition}\n",
    "\n",
    "\\begin{property}\n",
    "If all the $a_k$ in equation (\\ref{eq:diffeq}) of definition \\ref{def:diffeq} are zero, then the filter has a **finite impulse response**. \n",
    "\\end{property}\n",
    "\n",
    "\\begin{proof}\n",
    "Let $\\delta[n]$ denote the Dirac impulse. Take $x[n]=\\delta[n]$ in (\\ref{eq:diffeq}). This yields, by definition, the impulse response:\n",
    "$$\n",
    "\\label{eq:fir}\n",
    "h[n]= \\sum_{i=0}^q b_i \\delta[n-i],\n",
    "$$\n",
    "which has finite support. \n",
    "\\end{proof}\n",
    "\n",
    "\\begin{theorem}\n",
    "The poles of a causal stable filter are located within the unit circle in the complex plane.\n",
    "\\end{theorem}\n",
    "\n",
    "\\begin{example} \\label{ex:IIR1}\n",
    "Consider $y[n]= a y[n-1] +  x[n]$. The pole of the transfer function is $z=a$. The impulse response $h[n]=a^n$ has infinite support.\n",
    "\\end{example}\n",
    "\n",
    "In the following exercise, you will check that the filter is stable iff $a$<1.\n",
    "\n",
    "\\begin{exercise}\\label{ex:exofilter}\n",
    "Consider the filter defined in Example \\ref{ex:IIR1}. Using the **function** `lfilter` of scipy, compute and plot the impulse response for several values of $a$.\n",
    "\\end{exercise}\n",
    "\n",
    "\\end{listing}"
   ]
  },
  {
   "cell_type": "markdown",
   "metadata": {},
   "source": [
    "The lines above are rendered as follows (of course everything can be tailored in the stylesheet):\n",
    "\n",
    "\\begin{definition} \\label{def:diffeq}\n",
    "We call \\textbf{difference equation} an equation of the form\n",
    "\\begin{equation}\n",
    "\\label{eq:diffeq}\n",
    "y[n]= \\sum_{k=1}^{p} a_k y[n-k] + \\sum_{i=0}^q b_i x[n-i]\n",
    "\\end{equation}\n",
    "\\end{definition}\n",
    "Properties of the filter are linked to the coefficients of the difference equation. For instance, an immediate property is \n",
    "\n",
    "\\begin{property}\n",
    "If all the $a_k$ in equation (\\ref{eq:diffeq}) of definition \\ref{def:diffeq} are zero, then the filter has a **finite impulse response**. \n",
    "\\end{property}\n",
    "\n",
    "\\begin{proof}\n",
    "Let $\\delta[n]$ denote the Dirac impulse. Take $x[n]=\\delta[n]$ in (\\ref{eq:diffeq}). This yields, by definition, the impulse response:\n",
    "\\begin{equation}\n",
    "\\label{eq:fir}\n",
    "h[n]= \\sum_{i=0}^q b_i \\delta[n-i],\n",
    "\\end{equation}\n",
    "which has finite support. \n",
    "\\end{proof}\n",
    "\n",
    "\n",
    "\\begin{theorem}\n",
    "The poles of a causal stable filter are located within the unit circle in the complex plane.\n",
    "\\end{theorem}\n",
    "\n",
    "\n",
    "\\begin{example} \\label{ex:IIR1}\n",
    "Consider $y[n]= a y[n-1] +  x[n]$. The pole of the transfer function is $z=a$. The impulse response $h[n]=a^n$ has infinite support.\n",
    "\\end{example}\n",
    "\n",
    "In the following exercise, you will check that the filter is stable iff $a$<1.\n",
    "\n",
    "\\begin{exercise}\\label{ex:exofilter}\n",
    "Consider the filter defined in Example \\ref{ex:IIR1}. Using the **function** `lfilter` of scipy, compute and plot the impulse response for several values of $a$.\n",
    "\\end{exercise}\n",
    "\n"
   ]
  },
  {
   "cell_type": "markdown",
   "metadata": {},
   "source": [
    "\\begin{listing}\n",
    "The solution of exercise \\ref{ex:exofilter}, which uses a difference equation as in Definition \\ref{def:diffeq}:\n",
    "\\end{listing}\n",
    "The solution of exercise \\ref{ex:exofilter}, which uses a difference equation as in Definition \\ref{def:diffeq}:"
   ]
  },
  {
   "cell_type": "code",
   "execution_count": 4,
   "metadata": {
    "collapsed": false
   },
   "outputs": [
    {
     "data": {
      "image/png": "[encoded data removed]",
      "text/plain": [
       "<matplotlib.figure.Figure at 0xa333f98>"
      ]
     },
     "metadata": {},
     "output_type": "display_data"
    }
   ],
   "source": [
    "%matplotlib inline\n",
    "import numpy as np\n",
    "import matplotlib.pyplot as plt \n",
    "from scipy.signal import lfilter\n",
    "d=np.zeros(100); d[0]=1 #dirac impulse\n",
    "alist=[0.2, 0.8, 0.9, 0.95, 0.99, 0.999, 1.001, 1.01]\n",
    "for a in alist:\n",
    "    h=lfilter([1], [1, -a],d)\n",
    "    _=plt.plot(h, label=\"a={}\".format(a))\n",
    "plt.ylim([0,1.5])\n",
    "plt.xlabel('Time')\n",
    "_=plt.legend()"
   ]
  },
  {
   "cell_type": "markdown",
   "metadata": {
    "latex_envs": true
   },
   "source": [
    "## Third example:"
   ]
  },
  {
   "cell_type": "markdown",
   "metadata": {
    "latex_envs": true
   },
   "source": [
    "This example shows that environments like itemize or enumerate are also available. As already indicated, this is useful for copying text from a TeX file. Following the same idea, text formating commands `\\textit`, `\\textbf`, `\\underline`, etc are also available."
   ]
  },
  {
   "cell_type": "markdown",
   "metadata": {},
   "source": [
    "\\begin{listing}\n",
    "The following \\textit{environments} are available:\n",
    "\\begin{itemize}\n",
    "    \\item \\textbf{Theorems and likes}\n",
    "    \\begin{enumerate}\n",
    "        \\item theorem,\n",
    "        \\item lemma,\n",
    "        \\item corollary\n",
    "        \\item ...\n",
    "    \\end{enumerate}\n",
    "    \\item \\textbf{exercises}\n",
    "    \\begin{enumerate}\n",
    "        \\item problem,\n",
    "        \\item example,\n",
    "        \\item exercise\n",
    "    \\end{enumerate}\n",
    "\\end{itemize}\n",
    "\\end{listing}"
   ]
  },
  {
   "cell_type": "markdown",
   "metadata": {},
   "source": [
    "which gives... \n",
    "\n",
    "The following \\textit{environments} are available:\n",
    "\\begin{itemize}\n",
    "\\item \\textbf{Theorems and likes}\n",
    "\\begin{enumerate}\n",
    "\\item theorem,\n",
    "\\item lemma,\n",
    "\\item corollary\n",
    "\\item ...\n",
    "\\end{enumerate}\n",
    "\\item \\textbf{exercises}\n",
    "\\begin{enumerate}\n",
    "\\item problem,\n",
    "\\item example,\n",
    "\\item exercise\n",
    "\\end{enumerate}\n",
    "\\end{itemize}"
   ]
  },
  {
   "cell_type": "markdown",
   "metadata": {
    "latex_envs": true
   },
   "source": [
    "# Conversion to LaTeX and HTML"
   ]
  },
  {
   "cell_type": "markdown",
   "metadata": {
    "latex_envs": true
   },
   "source": [
    "The extension works in the live-notebook. Since it relies on a bunch of javascript, the notebook does not render as is in services such as `nbviewer` or `github` viewer. Similarly, `nbconvert` does not know of the LaTeX constructs which are used here and therefore does not fully convert notebooks using this extension. \n",
    "\n",
    "Therefore, we provide specialized templates and exporters to achieve these conversions. "
   ]
  },
  {
   "cell_type": "markdown",
   "metadata": {
    "latex_envs": true
   },
   "source": [
    "## Conversion to html\n",
    "We provide a template `latex_envs.tpl` and an exporter class `LenvsHTMLExporter` (in library `latex_envs.py`). Using that class, conversion simply amounts to\n",
    "```\n",
    "jupyter nbconvert --to latex_envs.LenvsHTMLExporter FILE.ipynb\n",
    "```\n",
    "A shortcut is also provided \n",
    "```\n",
    "jupyter nbconvert --to html_lenvs FILE.ipynb\n",
    "```\n",
    "It should be noted that the rendering is done exactly in the same way as in the livenotebook. Actually, it is the very same javascript which is run in the html file. The javascript functions are available on the `jupyter_notebook_extensions` CDN, which means that the rendering of the html files requires an internet connection (this is also true for the rendering of equations with MathJax).  \n",
    "\n",
    "## Conversion to LaTeX\n",
    "\n",
    "We provide two templates `thmsInNb_article.tplx` and `thmsInNb_report.tplx` for article and report styles respectively. Anyway one can also use the standard article, report, book templates provided with nbconvert. Simply, we have improved some of the internals styles. More importantly, we provide an exporter class `LenvsLatexExporter` (also in library `latex_envs.py`). Using that class, conversion simply amounts to\n",
    "```\n",
    "jupyter nbconvert --to latex_envs.LenvsLatexExporter FILE.ipynb\n",
    "```\n",
    "A shortcut is also provided \n",
    "```\n",
    "jupyter nbconvert --to latex_lenvs FILE.ipynb\n",
    "```\n",
    "In addition, we provide several further options:\n",
    "-  **removeHeaders**: Remove headers and footers, (default false)\n",
    "-  **figcaptionProcess**: Process figcaptions, (default true)\n",
    "- **tocrefRemove** Remove tocs and ref sections, + some cleaning, (default true), \n",
    "\n",
    "These options can be specified on the command line as, eg, \n",
    "```\n",
    "jupyter nbconvert --to latex_lenvs --LenvsLatexExporter.removeHeaders=True --  --LenvsLatexExporter.tocrefRemove=False FILE.ipynb\n",
    "```\n"
   ]
  },
  {
   "cell_type": "markdown",
   "metadata": {},
   "source": [
    "\\begin{example}\n",
    "As for an example, the present document has been converted using\n",
    "    \n",
    "    jupyter nbconvert --to latex_lenvs --LenvsLatexExporter.removeHeaders=True latex_env_doc.ipynb\n",
    "    \n",
    "Then the resulting file (without header/footer) has been included in the main file `documentation.tex`, where some LaTeX definitions of environments are done (namely listings, colors, etc) and compiled using \n",
    "    \n",
    "    xelatex documentation\n",
    "    \n",
    "The output can be consulted [here](documentation.pdf).    \n",
    "\\end{example}"
   ]
  },
  {
   "cell_type": "markdown",
   "metadata": {
    "latex_envs": true
   },
   "source": [
    "# Disclaimer, sources and thanks"
   ]
  },
  {
   "cell_type": "markdown",
   "metadata": {
    "latex_envs": true
   },
   "source": [
    "This is done in th ehope it can be useful. However there are many impovements possible, in the code and in the documentation. \n",
    "\n",
    "**Contributions will be welcome and deeply appreciated.** \n",
    "\n",
    "Originally, I used a piece of code from the nice online markdown editor `stackedit` [https://github.com/benweet/stackedit/issues/187](https://github.com/benweet/stackedit/issues/187), where the authors also considered the problem of incorporating LaTeX markup in their markdown. \n",
    "\n",
    "I also studied and used examples and code from [https://github.com/ipython-contrib/IPython-notebook-extensions](https://github.com/ipython-contrib/IPython-notebook-extensions). \n"
   ]
  },
  {
   "cell_type": "markdown",
   "metadata": {
    "latex_envs": true
   },
   "source": [
    "# References\n",
    "\n",
    "(<a id=\"cit-PER-GRA:2007\" href=\"#call-PER-GRA:2007\">P\\'erez and Granger, 2007</a>) P\\'erez Fernando and Granger Brian E., ``_IPython: a System for Interactive Scientific Computing_'', Computing in Science and Engineering, vol. 9, number 3, pp. 21--29, May 2007.  [online](http://ipython.org)\n",
    "\n",
    "(<a id=\"cit-mckinney2012python\" href=\"#call-mckinney2012python\">McKinney, 2012</a>) Wes McKinney, ``_Python for data analysis: Data wrangling with Pandas, NumPy, and IPython_'',  2012.\n",
    "\n",
    "(<a id=\"cit-rossant2013learning\" href=\"#call-rossant2013learning\">Rossant, 2013</a>) Cyrille Rossant, ``_Learning IPython for interactive computing and data visualization_'',  2013.\n",
    "\n",
    "(<a id=\"cit-shen2014interactive\" href=\"#call-shen2014interactive\">Shen, 2014</a>) Shen Helen, ``_Interactive notebooks: Sharing the code_'', Nature, vol. 515, number 7525, pp. 151--152,  2014.\n",
    "\n"
   ]
  }
 ],
 "metadata": {
  "anaconda-cloud": {},
  "kernelspec": {
   "display_name": "Python [default]",
   "language": "python",
   "name": "python3"
  },
  "language_info": {
   "codemirror_mode": {
    "name": "ipython",
    "version": 3
   },
   "file_extension": ".py",
   "mimetype": "text/x-python",
   "name": "python",
   "nbconvert_exporter": "python",
   "pygments_lexer": "ipython3",
   "version": "3.5.2"
  },
  "latex_envs": {
   "bibliofile": " biblio_ipython.bib",
   "cite_by": "apalike",
   "current_citInitial": 1,
   "eqLabelWithNumbers": true,
   "eqNumInitial": 0
  },
  "nav_menu": {
   "height": "346px",
   "width": "313px"
  },
  "toc": {
   "navigate_menu": true,
   "number_sections": true,
   "sideBar": true,
   "threshold": "3",
   "toc_cell": true,
   "toc_section_display": "block",
   "toc_window_display": true
  },
  "toc_position": {
   "height": "346px",
   "left": "0px",
   "right": "774.725px",
   "top": "106px",
   "width": "191px"
  },
  "toc_st": {
   "config_loaded": true,
   "extension_initialized": false,
   "nbcontainer_marginleft": "62px",
   "nbcontainer_marginright": "62px",
   "nbcontainer_width": "940px",
   "oldTocHeight": "200px",
   "rendering_toc_cell": false,
   "toc_index": 0
  }
 },
 "nbformat": 4,
 "nbformat_minor": 0
}
